{
 "cells": [
  {
   "cell_type": "code",
   "execution_count": 1,
   "metadata": {},
   "outputs": [],
   "source": [
    "from sklearn.model_selection import train_test_split\n",
    "import matplotlib.pyplot as plt\n",
    "import seaborn as sns\n",
    "import pdb\n",
    "from sklearn.ensemble import RandomForestClassifier\n",
    "from sklearn.metrics import classification_report, confusion_matrix, accuracy_score\n",
    "import pandas as pd\n",
    "import numpy as np"
   ]
  },
  {
   "cell_type": "code",
   "execution_count": 2,
   "metadata": {},
   "outputs": [
    {
     "name": "stdout",
     "output_type": "stream",
     "text": [
      "          Total(4)        Total        Title  Description     Features  \\\n",
      "count  1100.000000  1100.000000  1100.000000  1100.000000  1100.000000   \n",
      "mean      4.700909    14.115455     0.632727     1.377273     1.517273   \n",
      "std       4.500793    22.807066     0.523881     1.281361     1.987374   \n",
      "min       0.000000     0.000000     0.000000     0.000000     0.000000   \n",
      "25%       2.000000     2.000000     0.000000     0.000000     0.000000   \n",
      "50%       3.000000     5.000000     1.000000     1.000000     1.000000   \n",
      "75%       7.000000    15.000000     1.000000     2.000000     2.000000   \n",
      "max      26.000000   109.000000     2.000000     7.000000    12.000000   \n",
      "\n",
      "       Length_of_Features     Benefits  Length_of_Benefits  Service-scope  \\\n",
      "count         1100.000000  1100.000000          1100.00000    1100.000000   \n",
      "mean             8.170909     1.173636             7.51000       0.283636   \n",
      "std              2.167648     1.731745             2.37497       0.744715   \n",
      "min              1.000000     0.000000             1.00000       0.000000   \n",
      "25%              7.000000     0.000000             6.00000       0.000000   \n",
      "50%              9.000000     0.000000             8.00000       0.000000   \n",
      "75%             10.000000     2.000000            10.00000       0.000000   \n",
      "max             10.000000    10.000000            10.00000       6.000000   \n",
      "\n",
      "       User-support  ...     Planning     Training  Setup-and-migration  \\\n",
      "count   1100.000000  ...  1100.000000  1100.000000          1100.000000   \n",
      "mean       0.767273  ...     0.418182     0.690000             0.419091   \n",
      "std        1.917882  ...     1.086620     2.127272             1.054389   \n",
      "min        0.000000  ...     0.000000     0.000000             0.000000   \n",
      "25%        0.000000  ...     0.000000     0.000000             0.000000   \n",
      "50%        0.000000  ...     0.000000     0.000000             0.000000   \n",
      "75%        0.000000  ...     0.000000     0.000000             0.000000   \n",
      "max       14.000000  ...    10.000000    27.000000            10.000000   \n",
      "\n",
      "       Quality-assurance-and-performance-testing  Security-testing  \\\n",
      "count                                1100.000000       1100.000000   \n",
      "mean                                    0.077273          0.001818   \n",
      "std                                     0.402937          0.042621   \n",
      "min                                     0.000000          0.000000   \n",
      "25%                                     0.000000          0.000000   \n",
      "50%                                     0.000000          0.000000   \n",
      "75%                                     0.000000          0.000000   \n",
      "max                                     5.000000          1.000000   \n",
      "\n",
      "       Ongoing-support  Backup-and-recovery  Separation-between-users  \\\n",
      "count      1100.000000          1100.000000               1100.000000   \n",
      "mean          0.123636             0.020000                  0.109091   \n",
      "std           0.476171             0.203607                  0.423286   \n",
      "min           0.000000             0.000000                  0.000000   \n",
      "25%           0.000000             0.000000                  0.000000   \n",
      "50%           0.000000             0.000000                  0.000000   \n",
      "75%           0.000000             0.000000                  0.000000   \n",
      "max           7.000000             4.000000                  5.000000   \n",
      "\n",
      "       Energy-efficiency       Target  \n",
      "count        1100.000000  1100.000000  \n",
      "mean            0.544545     0.970000  \n",
      "std             2.325398     0.170665  \n",
      "min             0.000000     0.000000  \n",
      "25%             0.000000     1.000000  \n",
      "50%             0.000000     1.000000  \n",
      "75%             0.000000     1.000000  \n",
      "max            11.000000     1.000000  \n",
      "\n",
      "[8 rows x 39 columns]\n"
     ]
    }
   ],
   "source": [
    "# path = './PowerBi.csv'\n",
    "path = './all_query_term_data.csv'\n",
    "dataset = pd.read_csv(path)\n",
    "# print(dataset.head())\n",
    "print(dataset.describe())"
   ]
  },
  {
   "cell_type": "code",
   "execution_count": 3,
   "metadata": {},
   "outputs": [
    {
     "name": "stdout",
     "output_type": "stream",
     "text": [
      "<class 'pandas.core.frame.DataFrame'>\n",
      "RangeIndex: 1100 entries, 0 to 1099\n",
      "Data columns (total 40 columns):\n",
      " #   Column                                     Non-Null Count  Dtype  \n",
      "---  ------                                     --------------  -----  \n",
      " 0   Company Name                               1100 non-null   object \n",
      " 1   Total(4)                                   1100 non-null   int64  \n",
      " 2   Total                                      1100 non-null   int64  \n",
      " 3   Title                                      1100 non-null   int64  \n",
      " 4   Description                                1100 non-null   int64  \n",
      " 5   Features                                   1100 non-null   int64  \n",
      " 6   Length_of_Features                         1100 non-null   int64  \n",
      " 7   Benefits                                   1100 non-null   int64  \n",
      " 8   Length_of_Benefits                         1100 non-null   int64  \n",
      " 9   Service-scope                              1100 non-null   int64  \n",
      " 10  User-support                               1100 non-null   int64  \n",
      " 11  Onboarding-and-offboarding                 1100 non-null   float64\n",
      " 12  Using-the-service                          1100 non-null   float64\n",
      " 13  Scaling                                    1100 non-null   float64\n",
      " 14  Analytics                                  1100 non-null   float64\n",
      " 15  Resellers                                  1100 non-null   int64  \n",
      " 16  Staff-security                             1100 non-null   int64  \n",
      " 17  Asset-protection                           1100 non-null   float64\n",
      " 18  Data-importing-and-exporting               1100 non-null   float64\n",
      " 19  Data-in-transit-protection                 1100 non-null   float64\n",
      " 20  Availability-and-resilience                1100 non-null   float64\n",
      " 21  Identity-and-authentication                1100 non-null   float64\n",
      " 22  Audit-information-for-users                1100 non-null   float64\n",
      " 23  Standards-and-certifications               1100 non-null   float64\n",
      " 24  Security-governance                        1100 non-null   float64\n",
      " 25  Operational-security                       1100 non-null   float64\n",
      " 26  Secure-development                         1100 non-null   float64\n",
      " 27  Public-sector-networks                     1100 non-null   float64\n",
      " 28  Pricing                                    1100 non-null   int64  \n",
      " 29  Query_index                                1100 non-null   int64  \n",
      " 30  Planning                                   1100 non-null   float64\n",
      " 31  Training                                   1100 non-null   float64\n",
      " 32  Setup-and-migration                        1100 non-null   float64\n",
      " 33  Quality-assurance-and-performance-testing  1100 non-null   float64\n",
      " 34  Security-testing                           1100 non-null   float64\n",
      " 35  Ongoing-support                            1100 non-null   float64\n",
      " 36  Backup-and-recovery                        1100 non-null   float64\n",
      " 37  Separation-between-users                   1100 non-null   float64\n",
      " 38  Energy-efficiency                          1100 non-null   float64\n",
      " 39  Target                                     1100 non-null   int64  \n",
      "dtypes: float64(24), int64(15), object(1)\n",
      "memory usage: 343.9+ KB\n",
      "None\n"
     ]
    }
   ],
   "source": [
    "print(dataset.info())"
   ]
  },
  {
   "cell_type": "code",
   "execution_count": 4,
   "metadata": {},
   "outputs": [],
   "source": [
    "dataset_Top50 = dataset[dataset['Target'] == 0]\n",
    "dataset_Bottom50 = dataset[dataset['Target'] == 1]"
   ]
  },
  {
   "cell_type": "code",
   "execution_count": 5,
   "metadata": {},
   "outputs": [
    {
     "name": "stdout",
     "output_type": "stream",
     "text": [
      "        Total(4)      Total      Title  Description   Features  \\\n",
      "count  33.000000  33.000000  33.000000    33.000000  33.000000   \n",
      "mean   10.787879  15.848485   0.909091     2.575758   4.212121   \n",
      "std     6.142870  10.805442   0.291937     1.299767   3.049155   \n",
      "min     0.000000   0.000000   0.000000     0.000000   0.000000   \n",
      "25%     6.000000   8.000000   1.000000     2.000000   1.000000   \n",
      "50%    11.000000  15.000000   1.000000     3.000000   4.000000   \n",
      "75%    14.000000  18.000000   1.000000     4.000000   6.000000   \n",
      "max    24.000000  42.000000   1.000000     5.000000  12.000000   \n",
      "\n",
      "       Length_of_Features   Benefits  Length_of_Benefits  Service-scope  \\\n",
      "count           33.000000  33.000000           33.000000      33.000000   \n",
      "mean             7.333333   3.090909            6.636364       0.121212   \n",
      "std              2.313907   2.590411            2.848445       0.331434   \n",
      "min              1.000000   0.000000            2.000000       0.000000   \n",
      "25%              6.000000   1.000000            4.000000       0.000000   \n",
      "50%              7.000000   2.000000            7.000000       0.000000   \n",
      "75%             10.000000   5.000000            9.000000       0.000000   \n",
      "max             10.000000  10.000000           10.000000       1.000000   \n",
      "\n",
      "       User-support  ...   Planning   Training  Setup-and-migration  \\\n",
      "count     33.000000  ...  33.000000  33.000000            33.000000   \n",
      "mean       0.393939  ...   0.757576   1.727273             0.636364   \n",
      "std        1.297579  ...   1.677616   3.607914             0.962360   \n",
      "min        0.000000  ...   0.000000   0.000000             0.000000   \n",
      "25%        0.000000  ...   0.000000   0.000000             0.000000   \n",
      "50%        0.000000  ...   0.000000   0.000000             0.000000   \n",
      "75%        0.000000  ...   1.000000   1.000000             1.000000   \n",
      "max        5.000000  ...   9.000000  12.000000             3.000000   \n",
      "\n",
      "       Quality-assurance-and-performance-testing  Security-testing  \\\n",
      "count                                  33.000000              33.0   \n",
      "mean                                    0.151515               0.0   \n",
      "std                                     0.441674               0.0   \n",
      "min                                     0.000000               0.0   \n",
      "25%                                     0.000000               0.0   \n",
      "50%                                     0.000000               0.0   \n",
      "75%                                     0.000000               0.0   \n",
      "max                                     2.000000               0.0   \n",
      "\n",
      "       Ongoing-support  Backup-and-recovery  Separation-between-users  \\\n",
      "count        33.000000                 33.0                 33.000000   \n",
      "mean          0.121212                  0.0                  0.121212   \n",
      "std           0.331434                  0.0                  0.484612   \n",
      "min           0.000000                  0.0                  0.000000   \n",
      "25%           0.000000                  0.0                  0.000000   \n",
      "50%           0.000000                  0.0                  0.000000   \n",
      "75%           0.000000                  0.0                  0.000000   \n",
      "max           1.000000                  0.0                  2.000000   \n",
      "\n",
      "       Energy-efficiency  Target  \n",
      "count          33.000000    33.0  \n",
      "mean            0.090909     0.0  \n",
      "std             0.291937     0.0  \n",
      "min             0.000000     0.0  \n",
      "25%             0.000000     0.0  \n",
      "50%             0.000000     0.0  \n",
      "75%             0.000000     0.0  \n",
      "max             1.000000     0.0  \n",
      "\n",
      "[8 rows x 39 columns]\n"
     ]
    }
   ],
   "source": [
    "print(dataset_Top50.describe())"
   ]
  },
  {
   "cell_type": "code",
   "execution_count": 6,
   "metadata": {},
   "outputs": [
    {
     "name": "stdout",
     "output_type": "stream",
     "text": [
      "          Total(4)        Total        Title  Description     Features  \\\n",
      "count  1067.000000  1067.000000  1067.000000  1067.000000  1067.000000   \n",
      "mean      4.512652    14.061856     0.624180     1.340206     1.433927   \n",
      "std       4.309179    23.079517     0.527211     1.263392     1.887078   \n",
      "min       0.000000     0.000000     0.000000     0.000000     0.000000   \n",
      "25%       2.000000     2.000000     0.000000     0.000000     0.000000   \n",
      "50%       3.000000     5.000000     1.000000     1.000000     1.000000   \n",
      "75%       6.000000    14.000000     1.000000     2.000000     2.000000   \n",
      "max      26.000000   109.000000     2.000000     7.000000    11.000000   \n",
      "\n",
      "       Length_of_Features     Benefits  Length_of_Benefits  Service-scope  \\\n",
      "count         1067.000000  1067.000000         1067.000000    1067.000000   \n",
      "mean             8.196813     1.114339            7.537020       0.288660   \n",
      "std              2.158944     1.665242            2.355244       0.753412   \n",
      "min              1.000000     0.000000            1.000000       0.000000   \n",
      "25%              7.000000     0.000000            6.000000       0.000000   \n",
      "50%              9.000000     0.000000            8.000000       0.000000   \n",
      "75%             10.000000     2.000000           10.000000       0.000000   \n",
      "max             10.000000    10.000000           10.000000       6.000000   \n",
      "\n",
      "       User-support  ...     Planning     Training  Setup-and-migration  \\\n",
      "count   1067.000000  ...  1067.000000  1067.000000          1067.000000   \n",
      "mean       0.778819  ...     0.407685     0.657919             0.412371   \n",
      "std        1.933171  ...     1.062607     2.059194             1.056809   \n",
      "min        0.000000  ...     0.000000     0.000000             0.000000   \n",
      "25%        0.000000  ...     0.000000     0.000000             0.000000   \n",
      "50%        0.000000  ...     0.000000     0.000000             0.000000   \n",
      "75%        0.000000  ...     0.000000     0.000000             0.000000   \n",
      "max       14.000000  ...    10.000000    27.000000            10.000000   \n",
      "\n",
      "       Quality-assurance-and-performance-testing  Security-testing  \\\n",
      "count                                1067.000000       1067.000000   \n",
      "mean                                    0.074977          0.001874   \n",
      "std                                     0.401687          0.043274   \n",
      "min                                     0.000000          0.000000   \n",
      "25%                                     0.000000          0.000000   \n",
      "50%                                     0.000000          0.000000   \n",
      "75%                                     0.000000          0.000000   \n",
      "max                                     5.000000          1.000000   \n",
      "\n",
      "       Ongoing-support  Backup-and-recovery  Separation-between-users  \\\n",
      "count      1067.000000          1067.000000               1067.000000   \n",
      "mean          0.123711             0.020619                  0.108716   \n",
      "std           0.480062             0.206704                  0.421501   \n",
      "min           0.000000             0.000000                  0.000000   \n",
      "25%           0.000000             0.000000                  0.000000   \n",
      "50%           0.000000             0.000000                  0.000000   \n",
      "75%           0.000000             0.000000                  0.000000   \n",
      "max           7.000000             4.000000                  5.000000   \n",
      "\n",
      "       Energy-efficiency  Target  \n",
      "count        1067.000000  1067.0  \n",
      "mean            0.558575     1.0  \n",
      "std             2.359184     0.0  \n",
      "min             0.000000     1.0  \n",
      "25%             0.000000     1.0  \n",
      "50%             0.000000     1.0  \n",
      "75%             0.000000     1.0  \n",
      "max            11.000000     1.0  \n",
      "\n",
      "[8 rows x 39 columns]\n"
     ]
    }
   ],
   "source": [
    "print(dataset_Bottom50.describe())"
   ]
  },
  {
   "cell_type": "code",
   "execution_count": 7,
   "metadata": {},
   "outputs": [
    {
     "data": {
      "text/plain": [
       "array([0, 0, 0, ..., 1, 1, 1], dtype=int64)"
      ]
     },
     "execution_count": 7,
     "metadata": {},
     "output_type": "execute_result"
    }
   ],
   "source": [
    "X = dataset.iloc[:, 1:-1].values\n",
    "y = dataset.iloc[:, -1].values\n",
    "X_dummy = dataset.iloc[:, 1:-1]\n",
    "y"
   ]
  },
  {
   "cell_type": "code",
   "execution_count": 8,
   "metadata": {},
   "outputs": [],
   "source": [
    "X_train, X_test, y_train, y_test = train_test_split(\n",
    "    X, y, test_size=0.30, random_state=42, shuffle=True)\n",
    "# X_train, X_test, y_train, y_test = train_test_split(\n",
    "#     X, y, test_size=0.30, shuffle=True)\n",
    "classifier = RandomForestClassifier(n_estimators=2000)"
   ]
  },
  {
   "cell_type": "code",
   "execution_count": 9,
   "metadata": {},
   "outputs": [],
   "source": [
    "classifier.fit(X_train, y_train)\n",
    "y_pred = classifier.predict(X_test)\n",
    "result = confusion_matrix(y_test, y_pred)"
   ]
  },
  {
   "cell_type": "code",
   "execution_count": 10,
   "metadata": {},
   "outputs": [
    {
     "name": "stdout",
     "output_type": "stream",
     "text": [
      "Confusion Matrix:\n",
      "[[  0   9]\n",
      " [  1 320]]\n"
     ]
    }
   ],
   "source": [
    "print(\"Confusion Matrix:\")\n",
    "print(result)"
   ]
  },
  {
   "cell_type": "code",
   "execution_count": 11,
   "metadata": {},
   "outputs": [
    {
     "name": "stdout",
     "output_type": "stream",
     "text": [
      "Classification Report:\n",
      "              precision    recall  f1-score   support\n",
      "\n",
      "           0       0.00      0.00      0.00         9\n",
      "           1       0.97      1.00      0.98       321\n",
      "\n",
      "    accuracy                           0.97       330\n",
      "   macro avg       0.49      0.50      0.49       330\n",
      "weighted avg       0.95      0.97      0.96       330\n",
      "\n"
     ]
    }
   ],
   "source": [
    "result1 = classification_report(y_test, y_pred)\n",
    "print(\"Classification Report:\",)\n",
    "print(result1)"
   ]
  },
  {
   "cell_type": "code",
   "execution_count": 12,
   "metadata": {},
   "outputs": [
    {
     "name": "stdout",
     "output_type": "stream",
     "text": [
      "Accuracy: 0.9696969696969697\n"
     ]
    }
   ],
   "source": [
    "result2 = accuracy_score(y_test, y_pred)\n",
    "print(\"Accuracy:\", result2)"
   ]
  },
  {
   "cell_type": "code",
   "execution_count": 13,
   "metadata": {},
   "outputs": [
    {
     "name": "stdout",
     "output_type": "stream",
     "text": [
      "[6. 7. 1. 2. 2. 7. 1. 5. 0. 0. 0. 0. 0. 0. 0. 0. 0. 0. 0. 0. 0. 0. 0. 0.\n",
      " 0. 0. 0. 0. 1. 0. 1. 0. 0. 0. 0. 0. 0. 0.] 0\n",
      "[ 0.  0.  0.  0.  0.  7.  0.  8.  0.  0.  0.  0.  0.  0.  0.  0.  0.  0.\n",
      "  0.  0.  0.  0.  0.  0.  0.  0.  0.  0. 10.  0.  0.  0.  0.  0.  0.  0.\n",
      "  0.  0.] 0\n",
      "[20. 20.  1.  5.  7.  8.  7.  9.  0.  0.  0.  0.  0.  0.  0.  0.  0.  0.\n",
      "  0.  0.  0.  0.  0.  0.  0.  0.  0.  0.  6.  0.  0.  0.  0.  0.  0.  0.\n",
      "  0.  0.] 0\n",
      "[11. 11.  1.  3.  4.  7.  3.  5.  0.  0.  0.  0.  0.  0.  0.  0.  0.  0.\n",
      "  0.  0.  0.  0.  0.  0.  0.  0.  0.  0.  1.  0.  0.  0.  0.  0.  0.  0.\n",
      "  0.  0.] 0\n",
      "[12. 27.  1.  3.  5.  4.  3.  3.  0.  0.  1.  7.  1.  0.  0.  0.  0.  0.\n",
      "  0.  2.  0.  0.  0.  0.  1.  0.  0.  0.  6.  0.  0.  0.  0.  0.  0.  0.\n",
      "  2.  1.] 0\n",
      "[11. 16.  1.  3.  4.  9.  3.  9.  0.  0.  0.  0.  0.  0.  0.  0.  0.  0.\n",
      "  0.  0.  0.  0.  0.  0.  0.  0.  0.  0.  0.  2.  0.  1.  2.  0.  0.  0.\n",
      "  0.  0.] 0\n",
      "[17. 17.  1.  4.  4.  7.  8.  7.  0.  0.  0.  0.  0.  0.  0.  0.  0.  0.\n",
      "  0.  0.  0.  0.  0.  0.  0.  0.  0.  0.  7.  0.  0.  0.  0.  0.  0.  0.\n",
      "  0.  0.] 0\n",
      "[15. 15.  1.  3.  6.  8.  5.  9.  0.  0.  0.  0.  0.  0.  0.  0.  0.  0.\n",
      "  0.  0.  0.  0.  0.  0.  0.  0.  0.  0.  7.  0.  0.  0.  0.  0.  0.  0.\n",
      "  0.  0.] 0\n",
      "[ 8. 14.  1.  4.  1.  1.  2.  4.  0.  0.  0.  0.  0.  0.  1.  0.  0.  0.\n",
      "  0.  0.  0.  0.  0.  0.  0.  0.  0.  0.  9.  1.  2.  2.  0.  0.  0.  0.\n",
      "  0.  0.] 0\n"
     ]
    }
   ],
   "source": [
    "for i in range(len(y_test)):\n",
    "    if (y_test[i] != y_pred[i]) and y_pred[i]==1:\n",
    "        print(X_test[i], y_test[i])"
   ]
  },
  {
   "cell_type": "code",
   "execution_count": 14,
   "metadata": {},
   "outputs": [],
   "source": [
    "# Using Pearson Correlation\n",
    "# plt.figure(figsize=(12, 10))\n",
    "cor = dataset.corr()\n",
    "# sns.heatmap(cor, annot=True, cmap=plt.cm.Reds)\n",
    "# plt.show()"
   ]
  },
  {
   "cell_type": "code",
   "execution_count": 15,
   "metadata": {},
   "outputs": [],
   "source": [
    "# importance = classifier.feature_importances_\n",
    "# # summarize feature importance\n",
    "# for i,v in enumerate(importance):\n",
    "# \tprint('Feature: %0d, Score: %.5f' % (i,v))\n",
    "# # plot feature importance\n",
    "# plt.bar([x for x in range(len(importance))], importance)\n",
    "# plt.show()"
   ]
  },
  {
   "cell_type": "code",
   "execution_count": 16,
   "metadata": {},
   "outputs": [
    {
     "name": "stdout",
     "output_type": "stream",
     "text": [
      "[ 7 28  0  4  1  5  6  3 30 29 31 32  2  9 34 11 37  8 12 24 19 36 14 10\n",
      " 27 23 20 16 35 13 33 18 17 22 21 15 25 26]\n",
      "38\n"
     ]
    }
   ],
   "source": [
    "importances = classifier.feature_importances_\n",
    "std = np.std([tree.feature_importances_ for tree in classifier.estimators_],\n",
    "             axis=0)\n",
    "indices = np.argsort(importances)[::-1]\n",
    "print(indices)\n",
    "print(len(indices))"
   ]
  },
  {
   "cell_type": "code",
   "execution_count": 17,
   "metadata": {},
   "outputs": [
    {
     "name": "stdout",
     "output_type": "stream",
     "text": [
      "(1100, 38)\n"
     ]
    }
   ],
   "source": [
    "print(X.shape)"
   ]
  },
  {
   "cell_type": "code",
   "execution_count": 18,
   "metadata": {},
   "outputs": [
    {
     "name": "stdout",
     "output_type": "stream",
     "text": [
      "Feature ranking:\n",
      "1. Feature:Length_of_Benefits: (0.123334)\n",
      "2. Feature:Query_index: (0.122186)\n",
      "3. Feature:Total(4): (0.113732)\n",
      "4. Feature:Features: (0.097964)\n",
      "5. Feature:Total: (0.096971)\n",
      "6. Feature:Length_of_Features: (0.067759)\n",
      "7. Feature:Benefits: (0.064971)\n",
      "8. Feature:Description: (0.051548)\n",
      "9. Feature:Training: (0.048139)\n",
      "10. Feature:Planning: (0.041625)\n",
      "11. Feature:Setup-and-migration: (0.034314)\n",
      "12. Feature:Quality-assurance-and-performance-testing: (0.014795)\n",
      "13. Feature:Title: (0.014782)\n",
      "14. Feature:User-support: (0.013750)\n",
      "15. Feature:Ongoing-support: (0.011639)\n",
      "16. Feature:Using-the-service: (0.011561)\n",
      "17. Feature:Energy-efficiency: (0.011500)\n",
      "18. Feature:Service-scope: (0.010235)\n",
      "19. Feature:Scaling: (0.009851)\n",
      "20. Feature:Operational-security: (0.005829)\n",
      "21. Feature:Availability-and-resilience: (0.005652)\n",
      "22. Feature:Separation-between-users: (0.005643)\n",
      "23. Feature:Resellers: (0.005640)\n",
      "24. Feature:Onboarding-and-offboarding: (0.004727)\n",
      "25. Feature:Pricing: (0.004344)\n",
      "26. Feature:Security-governance: (0.001605)\n",
      "27. Feature:Identity-and-authentication: (0.001574)\n",
      "28. Feature:Asset-protection: (0.000872)\n",
      "29. Feature:Backup-and-recovery: (0.000841)\n",
      "30. Feature:Analytics: (0.000669)\n",
      "31. Feature:Security-testing: (0.000638)\n",
      "32. Feature:Data-in-transit-protection: (0.000577)\n",
      "33. Feature:Data-importing-and-exporting: (0.000367)\n",
      "34. Feature:Standards-and-certifications: (0.000330)\n",
      "35. Feature:Audit-information-for-users: (0.000037)\n",
      "36. Feature:Staff-security: (0.000000)\n",
      "37. Feature:Secure-development: (0.000000)\n",
      "38. Feature:Public-sector-networks: (0.000000)\n"
     ]
    }
   ],
   "source": [
    "# Print the feature ranking\n",
    "print(\"Feature ranking:\")\n",
    "\n",
    "for f in range(X.shape[1]):\n",
    "    print(\"%d. Feature:%s: (%f)\" % (f + 1, X_dummy.columns[indices[f]], importances[indices[f]]))"
   ]
  },
  {
   "cell_type": "code",
   "execution_count": 19,
   "metadata": {},
   "outputs": [
    {
     "data": {
      "image/png": "[encoded data removed]",
      "text/plain": [
       "<Figure size 1440x720 with 1 Axes>"
      ]
     },
     "metadata": {
      "needs_background": "light"
     },
     "output_type": "display_data"
    }
   ],
   "source": [
    "\n",
    "\n",
    "# Plot the impurity-based feature importances of the forest\n",
    "plt.rcParams[\"figure.figsize\"] = (20,10)\n",
    "plt.figure()\n",
    "plt.title(\"Feature importances\")\n",
    "plt.bar(range(X.shape[1]), importances[indices],\n",
    "        color=\"r\", yerr=std[indices], align=\"center\")\n",
    "plt.xticks(range(X.shape[1]), X_dummy.columns[indices])\n",
    "plt.xticks(rotation=90)\n",
    "plt.xlim([-1, X.shape[1]])\n",
    "plt.show()\n"
   ]
  },
  {
   "cell_type": "code",
   "execution_count": 20,
   "metadata": {},
   "outputs": [
    {
     "data": {
      "image/png": "[encoded data removed]",
      "text/plain": [
       "<Figure size 1440x720 with 1 Axes>"
      ]
     },
     "metadata": {
      "needs_background": "light"
     },
     "output_type": "display_data"
    }
   ],
   "source": [
    "\n",
    "# Plot the impurity-based feature importances of the forest\n",
    "plt.rcParams[\"figure.figsize\"] = (20,10)\n",
    "plt.figure()\n",
    "plt.title(\"Feature importances\")\n",
    "plt.bar(range(X.shape[1]), importances[indices],\n",
    "        color=\"r\", align=\"center\")\n",
    "plt.xticks(range(X.shape[1]), X_dummy.columns[indices])\n",
    "plt.xticks(rotation=90)\n",
    "plt.xlim([-1, X.shape[1]])\n",
    "plt.show()"
   ]
  },
  {
   "cell_type": "code",
   "execution_count": 21,
   "metadata": {},
   "outputs": [
    {
     "name": "stdout",
     "output_type": "stream",
     "text": [
      "   Length_of_Benefits  Query_index  Total(4)  Features  Total  \\\n",
      "0                  10            0        12         5     12   \n",
      "1                   3            0         5         1      8   \n",
      "2                   9            0        11         4     16   \n",
      "3                   8            0         8         4      8   \n",
      "4                  10            0         7         3     22   \n",
      "\n",
      "   Length_of_Features  Benefits  Description  Training  Planning  \n",
      "0                  10         2            4       0.0       0.0  \n",
      "1                   7         0            3       1.0       1.0  \n",
      "2                   9         3            3       0.0       2.0  \n",
      "3                   9         1            2       0.0       0.0  \n",
      "4                  10         2            1       2.0       6.0  \n"
     ]
    }
   ],
   "source": [
    "small_dataset = dataset.iloc[:,indices[:10]+1]\n",
    "print(small_dataset.head())"
   ]
  },
  {
   "cell_type": "code",
   "execution_count": 22,
   "metadata": {},
   "outputs": [],
   "source": [
    "small_dataset_Top50 = small_dataset[dataset['Target'] == 0]\n",
    "small_dataset_Bottom50 = small_dataset[dataset['Target'] == 1]"
   ]
  },
  {
   "cell_type": "code",
   "execution_count": 23,
   "metadata": {},
   "outputs": [
    {
     "name": "stdout",
     "output_type": "stream",
     "text": [
      "       Length_of_Benefits  Query_index   Total(4)   Features      Total  \\\n",
      "count           33.000000    33.000000  33.000000  33.000000  33.000000   \n",
      "mean             6.636364     5.000000  10.787879   4.212121  15.848485   \n",
      "std              2.848445     3.211308   6.142870   3.049155  10.805442   \n",
      "min              2.000000     0.000000   0.000000   0.000000   0.000000   \n",
      "25%              4.000000     2.000000   6.000000   1.000000   8.000000   \n",
      "50%              7.000000     5.000000  11.000000   4.000000  15.000000   \n",
      "75%              9.000000     8.000000  14.000000   6.000000  18.000000   \n",
      "max             10.000000    10.000000  24.000000  12.000000  42.000000   \n",
      "\n",
      "       Length_of_Features   Benefits  Description   Training   Planning  \n",
      "count           33.000000  33.000000    33.000000  33.000000  33.000000  \n",
      "mean             7.333333   3.090909     2.575758   1.727273   0.757576  \n",
      "std              2.313907   2.590411     1.299767   3.607914   1.677616  \n",
      "min              1.000000   0.000000     0.000000   0.000000   0.000000  \n",
      "25%              6.000000   1.000000     2.000000   0.000000   0.000000  \n",
      "50%              7.000000   2.000000     3.000000   0.000000   0.000000  \n",
      "75%             10.000000   5.000000     4.000000   1.000000   1.000000  \n",
      "max             10.000000  10.000000     5.000000  12.000000   9.000000  \n"
     ]
    }
   ],
   "source": [
    "print(small_dataset_Top50.describe())"
   ]
  },
  {
   "cell_type": "code",
   "execution_count": 24,
   "metadata": {},
   "outputs": [
    {
     "name": "stdout",
     "output_type": "stream",
     "text": [
      "       Length_of_Benefits  Query_index     Total(4)     Features        Total  \\\n",
      "count         1067.000000  1067.000000  1067.000000  1067.000000  1067.000000   \n",
      "mean             7.537020     5.000000     4.512652     1.433927    14.061856   \n",
      "std              2.355244     3.163761     4.309179     1.887078    23.079517   \n",
      "min              1.000000     0.000000     0.000000     0.000000     0.000000   \n",
      "25%              6.000000     2.000000     2.000000     0.000000     2.000000   \n",
      "50%              8.000000     5.000000     3.000000     1.000000     5.000000   \n",
      "75%             10.000000     8.000000     6.000000     2.000000    14.000000   \n",
      "max             10.000000    10.000000    26.000000    11.000000   109.000000   \n",
      "\n",
      "       Length_of_Features     Benefits  Description     Training     Planning  \n",
      "count         1067.000000  1067.000000  1067.000000  1067.000000  1067.000000  \n",
      "mean             8.196813     1.114339     1.340206     0.657919     0.407685  \n",
      "std              2.158944     1.665242     1.263392     2.059194     1.062607  \n",
      "min              1.000000     0.000000     0.000000     0.000000     0.000000  \n",
      "25%              7.000000     0.000000     0.000000     0.000000     0.000000  \n",
      "50%              9.000000     0.000000     1.000000     0.000000     0.000000  \n",
      "75%             10.000000     2.000000     2.000000     0.000000     0.000000  \n",
      "max             10.000000    10.000000     7.000000    27.000000    10.000000  \n"
     ]
    }
   ],
   "source": [
    "print(small_dataset_Bottom50.describe())"
   ]
  }
 ],
 "metadata": {
  "kernelspec": {
   "display_name": "Python 3",
   "language": "python",
   "name": "python3"
  },
  "language_info": {
   "codemirror_mode": {
    "name": "ipython",
    "version": 3
   },
   "file_extension": ".py",
   "mimetype": "text/x-python",
   "name": "python",
   "nbconvert_exporter": "python",
   "pygments_lexer": "ipython3",
   "version": "3.6.5"
  }
 },
 "nbformat": 4,
 "nbformat_minor": 4
}
